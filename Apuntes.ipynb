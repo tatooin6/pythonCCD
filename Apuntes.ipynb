{
 "cells": [
  {
   "cell_type": "markdown",
   "metadata": {},
   "source": [
    "## Apuntes"
   ]
  },
  {
   "cell_type": "markdown",
   "metadata": {},
   "source": [
    "### Impresion de cadenas"
   ]
  },
  {
   "cell_type": "code",
   "execution_count": 5,
   "metadata": {},
   "outputs": [
    {
     "name": "stdout",
     "output_type": "stream",
     "text": [
      "(1st: 5, 2nd: 10, 3rd: 25)\n",
      "(x1+x2: 15 - x3-x2: 15)\n"
     ]
    }
   ],
   "source": [
    "x1,x2,x3 = 5, 10, 25\n",
    "print(f'(1st: {x1}, 2nd: {x2}, 3rd: {x3})')\n",
    "print(f'(x1+x2: {x1+x2} - x3-x2: {x3-x2})')"
   ]
  },
  {
   "cell_type": "markdown",
   "metadata": {},
   "source": [
    "### Conversiones de tipos de datos"
   ]
  },
  {
   "cell_type": "code",
   "execution_count": 11,
   "metadata": {},
   "outputs": [
    {
     "name": "stdout",
     "output_type": "stream",
     "text": [
      "10\n",
      "cadena:10.123\n",
      "10.123\n",
      "11.123\n"
     ]
    }
   ],
   "source": [
    "n = 10\n",
    "n_cad = str(n)\n",
    "n_cadena = f'{n}.123'\n",
    "print(n)\n",
    "print(f'cadena:{n_cadena}')\n",
    "n_float = float(n_cadena)\n",
    "print(n_float)\n",
    "print(n_float+1)"
   ]
  },
  {
   "cell_type": "markdown",
   "metadata": {},
   "source": [
    "### Entrada de Datos"
   ]
  },
  {
   "cell_type": "code",
   "execution_count": 16,
   "metadata": {},
   "outputs": [
    {
     "name": "stdout",
     "output_type": "stream",
     "text": [
      "abcd\n",
      "13\n",
      "entro mas uno: 14\n"
     ]
    }
   ],
   "source": [
    "linea = input()\n",
    "# print(linea)\n",
    "entero = int(input())\n",
    "print(f'entro mas uno: {entero+1}')"
   ]
  },
  {
   "cell_type": "code",
   "execution_count": 18,
   "metadata": {},
   "outputs": [
    {
     "name": "stdout",
     "output_type": "stream",
     "text": [
      "2 3 4 5\n",
      "2.0 3.0 4.0 5.0\n"
     ]
    }
   ],
   "source": [
    "# Entrada de datos seguida\n",
    "a, b, c, d = list(map(float, input().split()))\n",
    "print(a,b,c,d)"
   ]
  },
  {
   "cell_type": "markdown",
   "metadata": {},
   "source": [
    "### Ciclos"
   ]
  },
  {
   "cell_type": "code",
   "execution_count": 2,
   "metadata": {},
   "outputs": [
    {
     "name": "stdout",
     "output_type": "stream",
     "text": [
      "0\n",
      "1\n",
      "2\n",
      "3\n",
      "4\n",
      "5\n",
      "6\n",
      "7\n",
      "8\n",
      "9\n",
      "10\n"
     ]
    }
   ],
   "source": [
    "# cilo con un rango\n",
    "for i in range(11):\n",
    "    print(i)"
   ]
  },
  {
   "cell_type": "code",
   "execution_count": 6,
   "metadata": {},
   "outputs": [
    {
     "name": "stdout",
     "output_type": "stream",
     "text": [
      "10\n",
      "9\n",
      "8\n",
      "7\n",
      "6\n",
      "5\n",
      "4\n",
      "3\n",
      "2\n",
      "1\n",
      "0\n"
     ]
    }
   ],
   "source": [
    "# ciclo reversa\n",
    "for i in reversed(range(11)):\n",
    "    print(i)"
   ]
  },
  {
   "cell_type": "code",
   "execution_count": 8,
   "metadata": {},
   "outputs": [
    {
     "name": "stdout",
     "output_type": "stream",
     "text": [
      "0\n",
      "2\n",
      "4\n",
      "6\n",
      "8\n",
      "10\n",
      "12\n",
      "14\n",
      "16\n",
      "18\n",
      "20\n"
     ]
    }
   ],
   "source": [
    "# range(i,n) desde i hasta n-1;\n",
    "# range(i, n, s) dede i hasta n-1 y saltando de s en s\n",
    "for i in range(0,21,2):\n",
    "    print(i)"
   ]
  },
  {
   "cell_type": "code",
   "execution_count": 15,
   "metadata": {},
   "outputs": [
    {
     "name": "stdout",
     "output_type": "stream",
     "text": [
      "inicio: 0 - final: 5\n",
      "0\n",
      "1\n",
      "2\n",
      "3\n",
      "4\n",
      "termino\n"
     ]
    }
   ],
   "source": [
    "i,fin = 0, 5\n",
    "print(f'inicio: {i} - final: {fin}')\n",
    "while i < fin:\n",
    "    print(i)\n",
    "    i+=1 # igual a i = i + 1\n",
    "print('termino')"
   ]
  },
  {
   "cell_type": "code",
   "execution_count": 18,
   "metadata": {},
   "outputs": [
    {
     "name": "stdout",
     "output_type": "stream",
     "text": [
      "hh\n",
      "termino ingresado: hh\n",
      "\n",
      "fin de programa\n"
     ]
    }
   ],
   "source": [
    "termino = input()\n",
    "while termino != '':\n",
    "    print('termino ingresado: '+termino)\n",
    "    termino = input()\n",
    "print('fin de programa')"
   ]
  },
  {
   "cell_type": "code",
   "execution_count": 23,
   "metadata": {},
   "outputs": [
    {
     "name": "stdout",
     "output_type": "stream",
     "text": [
      "Requirement already satisfied: opencv-python in c:\\users\\tato_\\anaconda3\\lib\\site-packages (4.4.0.40)\n",
      "Requirement already satisfied: numpy>=1.14.5 in c:\\users\\tato_\\anaconda3\\lib\\site-packages (from opencv-python) (1.18.1)\n"
     ]
    }
   ],
   "source": [
    "!pip install opencv-python\n"
   ]
  },
  {
   "cell_type": "code",
   "execution_count": 28,
   "metadata": {},
   "outputs": [],
   "source": [
    "## Descargar y quitar fondo de imagen comandos linux\n",
    "#!wget https://raw.githubusercontent.com/nubol23/python101-test-cases/master/utils/img_utils.py\n",
    "#!mkdir utils\n",
    "#!mv img_utils.py utils\n"
   ]
  },
  {
   "cell_type": "code",
   "execution_count": 33,
   "metadata": {},
   "outputs": [],
   "source": [
    "from utils.img_utils import *"
   ]
  },
  {
   "cell_type": "code",
   "execution_count": 35,
   "metadata": {},
   "outputs": [
    {
     "data": {
      "image/png": "[encoded data removed]",
      "text/plain": [
       "<Figure size 432x288 with 1 Axes>"
      ]
     },
     "metadata": {
      "needs_background": "light"
     },
     "output_type": "display_data"
    }
   ],
   "source": [
    "img = descargar_img('https://ih0.redbubble.net/image.1046346575.1999/pp,550x550.jpg')\n",
    "\n",
    "mostrar_img(img)"
   ]
  },
  {
   "cell_type": "code",
   "execution_count": 36,
   "metadata": {},
   "outputs": [
    {
     "data": {
      "image/png": "[encoded data removed]",
      "text/plain": [
       "<Figure size 432x288 with 1 Axes>"
      ]
     },
     "metadata": {
      "needs_background": "light"
     },
     "output_type": "display_data"
    }
   ],
   "source": [
    "mask = crear_mascara(img)\n",
    "\n",
    "mostrar_mascara(mask)"
   ]
  },
  {
   "cell_type": "code",
   "execution_count": 37,
   "metadata": {},
   "outputs": [
    {
     "name": "stdout",
     "output_type": "stream",
     "text": [
      "550 550\n"
     ]
    }
   ],
   "source": [
    "alto, ancho = dimensiones_de_la_imagen(img)\n",
    "\n",
    "print(alto, ancho)"
   ]
  },
  {
   "cell_type": "code",
   "execution_count": 39,
   "metadata": {},
   "outputs": [],
   "source": [
    "resul_img = crear_imagen_con_transparencia(img)"
   ]
  },
  {
   "cell_type": "code",
   "execution_count": 41,
   "metadata": {},
   "outputs": [],
   "source": [
    "for i in range(alto):\n",
    "    for j in range(ancho):\n",
    "        if es_pixel_negro(mask, i, j):\n",
    "            volver_pixel_transparente(resul_img, i, j)\n",
    "\n",
    "guardar_imagen('sin_fondo.png', resul_img)\n",
    "guardar_imagen('original.png', img)"
   ]
  },
  {
   "cell_type": "code",
   "execution_count": null,
   "metadata": {},
   "outputs": [],
   "source": []
  }
 ],
 "metadata": {
  "kernelspec": {
   "display_name": "Python 3",
   "language": "python",
   "name": "python3"
  },
  "language_info": {
   "codemirror_mode": {
    "name": "ipython",
    "version": 3
   },
   "file_extension": ".py",
   "mimetype": "text/x-python",
   "name": "python",
   "nbconvert_exporter": "python",
   "pygments_lexer": "ipython3",
   "version": "3.7.6"
  }
 },
 "nbformat": 4,
 "nbformat_minor": 4
}
