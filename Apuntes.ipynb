{
 "cells": [
  {
   "cell_type": "markdown",
   "metadata": {},
   "source": [
    "## Apuntes"
   ]
  },
  {
   "cell_type": "markdown",
   "metadata": {},
   "source": [
    "### Impresion de cadenas"
   ]
  },
  {
   "cell_type": "code",
   "execution_count": 5,
   "metadata": {},
   "outputs": [
    {
     "name": "stdout",
     "output_type": "stream",
     "text": [
      "(1st: 5, 2nd: 10, 3rd: 25)\n",
      "(x1+x2: 15 - x3-x2: 15)\n"
     ]
    }
   ],
   "source": [
    "x1,x2,x3 = 5, 10, 25\n",
    "print(f'(1st: {x1}, 2nd: {x2}, 3rd: {x3})')\n",
    "print(f'(x1+x2: {x1+x2} - x3-x2: {x3-x2})')"
   ]
  },
  {
   "cell_type": "markdown",
   "metadata": {},
   "source": [
    "### Conversiones de tipos de datos"
   ]
  },
  {
   "cell_type": "code",
   "execution_count": 11,
   "metadata": {},
   "outputs": [
    {
     "name": "stdout",
     "output_type": "stream",
     "text": [
      "10\n",
      "cadena:10.123\n",
      "10.123\n",
      "11.123\n"
     ]
    }
   ],
   "source": [
    "n = 10\n",
    "n_cad = str(n)\n",
    "n_cadena = f'{n}.123'\n",
    "print(n)\n",
    "print(f'cadena:{n_cadena}')\n",
    "n_float = float(n_cadena)\n",
    "print(n_float)\n",
    "print(n_float+1)"
   ]
  },
  {
   "cell_type": "markdown",
   "metadata": {},
   "source": [
    "### Entrada de Datos"
   ]
  },
  {
   "cell_type": "code",
   "execution_count": 16,
   "metadata": {},
   "outputs": [
    {
     "name": "stdout",
     "output_type": "stream",
     "text": [
      "abcd\n",
      "13\n",
      "entro mas uno: 14\n"
     ]
    }
   ],
   "source": [
    "linea = input()\n",
    "# print(linea)\n",
    "entero = int(input())\n",
    "print(f'entro mas uno: {entero+1}')"
   ]
  },
  {
   "cell_type": "code",
   "execution_count": 18,
   "metadata": {},
   "outputs": [
    {
     "name": "stdout",
     "output_type": "stream",
     "text": [
      "2 3 4 5\n",
      "2.0 3.0 4.0 5.0\n"
     ]
    }
   ],
   "source": [
    "# Entrada de datos seguida\n",
    "a, b, c, d = list(map(float, input().split()))\n",
    "print(a,b,c,d)"
   ]
  }
 ],
 "metadata": {
  "kernelspec": {
   "display_name": "Python 3",
   "language": "python",
   "name": "python3"
  },
  "language_info": {
   "codemirror_mode": {
    "name": "ipython",
    "version": 3
   },
   "file_extension": ".py",
   "mimetype": "text/x-python",
   "name": "python",
   "nbconvert_exporter": "python",
   "pygments_lexer": "ipython3",
   "version": "3.7.6"
  }
 },
 "nbformat": 4,
 "nbformat_minor": 4
}
