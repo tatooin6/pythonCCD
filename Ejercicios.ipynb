{
 "cells": [
  {
   "cell_type": "markdown",
   "metadata": {},
   "source": [
    "# Ejercicios"
   ]
  },
  {
   "cell_type": "markdown",
   "metadata": {},
   "source": [
    "## Ejercicio 1"
   ]
  },
  {
   "cell_type": "code",
   "execution_count": 7,
   "metadata": {},
   "outputs": [
    {
     "name": "stdout",
     "output_type": "stream",
     "text": [
      "0 0 51\n"
     ]
    }
   ],
   "source": [
    "times = [3661, 51]\n",
    "for segundos in times:\n",
    "    minutos = segundos // 60\n",
    "    segundos = segundos - minutos*60\n",
    "    \n",
    "    horas = minutos // 60\n",
    "    minutos = minutos - horas*60\n",
    "print(horas, minutos, segundos)"
   ]
  },
  {
   "cell_type": "markdown",
   "metadata": {},
   "source": [
    "## Ejercicio 2"
   ]
  },
  {
   "cell_type": "code",
   "execution_count": 10,
   "metadata": {},
   "outputs": [
    {
     "name": "stdout",
     "output_type": "stream",
     "text": [
      "3.457007376329996\n"
     ]
    }
   ],
   "source": [
    "x1 = 1.1\n",
    "y1 = 2.3\n",
    "x2 = -2.2\n",
    "y2 = 3.33\n",
    "puntos = [x1,x2,y1,y2]\n",
    "res = ((x1-x2)**2 + (y1-y2)**2)**(1/2)\n",
    "print(res)"
   ]
  },
  {
   "cell_type": "markdown",
   "metadata": {},
   "source": [
    "## Ejercicio 2.1"
   ]
  },
  {
   "cell_type": "code",
   "execution_count": 19,
   "metadata": {},
   "outputs": [
    {
     "name": "stdout",
     "output_type": "stream",
     "text": [
      "15\n",
      "normal\n"
     ]
    }
   ],
   "source": [
    "temperatura = int(input())\n",
    "if temperatura >30:\n",
    "    print('Hace Calor')\n",
    "    if temperatura >= 100:\n",
    "        print('el agua esta hirviendo')\n",
    "elif temperatura < 10:\n",
    "    print('Hace frio')\n",
    "    if temperatura <= 0:\n",
    "        print('el agua se congela')\n",
    "else:\n",
    "    print('normal')"
   ]
  },
  {
   "cell_type": "markdown",
   "metadata": {},
   "source": [
    "## Ejercicio 2.2"
   ]
  },
  {
   "cell_type": "code",
   "execution_count": 32,
   "metadata": {},
   "outputs": [
    {
     "name": "stdout",
     "output_type": "stream",
     "text": [
      "2012\n",
      "Es bisiesto\n"
     ]
    }
   ],
   "source": [
    "numero = input()\n",
    "tam = len(numero)\n",
    "# print('00' == f'{numero[tam-1]}{numero[tam-2]}')\n",
    "if int(numero) % 4 == 0:\n",
    "    if '00' != f'{numero[tam-1]}{numero[tam-2]}':\n",
    "        print('Es bisiesto')\n",
    "    else:\n",
    "        if int(numero) % 400 == 0:\n",
    "            print('Es bisiesto')\n",
    "        else:\n",
    "            print('No es bisiesto')\n",
    "else:\n",
    "    print('No es bisiesto')"
   ]
  }
 ],
 "metadata": {
  "kernelspec": {
   "display_name": "Python 3",
   "language": "python",
   "name": "python3"
  },
  "language_info": {
   "codemirror_mode": {
    "name": "ipython",
    "version": 3
   },
   "file_extension": ".py",
   "mimetype": "text/x-python",
   "name": "python",
   "nbconvert_exporter": "python",
   "pygments_lexer": "ipython3",
   "version": "3.7.6"
  }
 },
 "nbformat": 4,
 "nbformat_minor": 4
}
