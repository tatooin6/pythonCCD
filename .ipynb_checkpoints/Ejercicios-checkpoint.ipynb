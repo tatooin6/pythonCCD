{
 "cells": [
  {
   "cell_type": "markdown",
   "metadata": {},
   "source": [
    "# Ejercicios"
   ]
  },
  {
   "cell_type": "markdown",
   "metadata": {},
   "source": [
    "## Ejercicio 1"
   ]
  },
  {
   "cell_type": "code",
   "execution_count": 7,
   "metadata": {},
   "outputs": [
    {
     "name": "stdout",
     "output_type": "stream",
     "text": [
      "0 0 51\n"
     ]
    }
   ],
   "source": [
    "times = [3661, 51]\n",
    "for segundos in times:\n",
    "    minutos = segundos // 60\n",
    "    segundos = segundos - minutos*60\n",
    "    \n",
    "    horas = minutos // 60\n",
    "    minutos = minutos - horas*60\n",
    "print(horas, minutos, segundos)"
   ]
  },
  {
   "cell_type": "markdown",
   "metadata": {},
   "source": [
    "## Ejercicio 2"
   ]
  },
  {
   "cell_type": "code",
   "execution_count": 10,
   "metadata": {},
   "outputs": [
    {
     "name": "stdout",
     "output_type": "stream",
     "text": [
      "3.457007376329996\n"
     ]
    }
   ],
   "source": [
    "x1 = 1.1\n",
    "y1 = 2.3\n",
    "x2 = -2.2\n",
    "y2 = 3.33\n",
    "puntos = [x1,x2,y1,y2]\n",
    "res = ((x1-x2)**2 + (y1-y2)**2)**(1/2)\n",
    "print(res)"
   ]
  },
  {
   "cell_type": "code",
   "execution_count": null,
   "metadata": {},
   "outputs": [],
   "source": []
  }
 ],
 "metadata": {
  "kernelspec": {
   "display_name": "Python 3",
   "language": "python",
   "name": "python3"
  },
  "language_info": {
   "codemirror_mode": {
    "name": "ipython",
    "version": 3
   },
   "file_extension": ".py",
   "mimetype": "text/x-python",
   "name": "python",
   "nbconvert_exporter": "python",
   "pygments_lexer": "ipython3",
   "version": "3.7.6"
  }
 },
 "nbformat": 4,
 "nbformat_minor": 4
}
