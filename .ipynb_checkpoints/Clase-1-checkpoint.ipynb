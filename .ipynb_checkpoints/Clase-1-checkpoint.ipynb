{
 "cells": [
  {
   "cell_type": "markdown",
   "metadata": {
    "colab_type": "text",
    "id": "N5Jc3qSDaTZn"
   },
   "source": [
    "# Python 101\n",
    "## Clase 1\n",
    "\n",
    "**Rafael Villca Poggian**"
   ]
  },
  {
   "cell_type": "markdown",
   "metadata": {
    "colab_type": "text",
    "id": "PWmCF_f3aTZo"
   },
   "source": [
    "## Variables"
   ]
  },
  {
   "cell_type": "markdown",
   "metadata": {
    "colab_type": "text",
    "id": "QZW738dSaTZp"
   },
   "source": [
    "Una variable es una posición de memoria con un nombre asociado, el cual se lo da el programador.\n",
    "\n",
    "El nombre es dependiente del ámbito o contexto *(scope in inglés)*, es decir, si creamos una variable con un nombre $x$ y luego dentro de una estructura del código, como una función, definimos otra variable con el mismo nombre, el código sabrá diferenciarlas por el contexto en el que están, ya que al final son posiciones de memoria independientes\n",
    "\n",
    "Una variable contiene un valor de algún tipo que soporte el lenguaje de programación, y existen dos formas de cómo se almacena.\n",
    "* **Por valor:** la variable cambia sólo su contenido en cada asignación.\n",
    "* **Por referencia:** la variable cambia la posición de memoria a la que apunta.\n",
    "\n",
    "Para asignar un valor a una variable se usa el operador `=`."
   ]
  },
  {
   "cell_type": "code",
   "execution_count": null,
   "metadata": {
    "colab": {},
    "colab_type": "code",
    "id": "xnYo0FbVaTZr"
   },
   "outputs": [],
   "source": [
    "# Asignamos el valor 13 a la variable x\n",
    "\n",
    "x = 13"
   ]
  },
  {
   "cell_type": "markdown",
   "metadata": {
    "colab_type": "text",
    "id": "3UwuPW_KaTZx"
   },
   "source": [
    "Para imprimir el contenido de una variable, se usa la instrucción `print`"
   ]
  },
  {
   "cell_type": "code",
   "execution_count": null,
   "metadata": {
    "colab": {},
    "colab_type": "code",
    "id": "vWe6gByyaTZz",
    "scrolled": true
   },
   "outputs": [],
   "source": [
    "print(x)"
   ]
  },
  {
   "cell_type": "markdown",
   "metadata": {
    "colab_type": "text",
    "id": "JlxU4pegaTZ4"
   },
   "source": [
    "A diferencia de los lenguajes de tipado estático, donde una variable se define con un tipo de dato específico que puede almacenar, Python es de tipado dinámico, es decir que una variable puede almacenar cualquier valor sin necesidad de especificar el tipo, al igual que en medio de la ejecución puede cambiar su valor entre distintos tipos de datos.\n",
    "\n",
    "Para lograr esta flexibilidad, las variables en Python almacenan todo por referencia, es decir:\n",
    "\n",
    "Si a la variable $x$ anterior le cambiamos su valor por `42`, este no se almacenará en la misma posición de memoria, sino que Python creará un objeto número en otro lugar de la RAM, y hará que la variable $x$ ahora apunte a la posición de memoria nueva dónde está almacenado el $42$\n",
    "\n",
    "* De apuntar a la posición dónde se encuentra $13$\n",
    "<img src=\"https://i.imgur.com/GiQHuHS.png\" width=\"333\">\n",
    "\n",
    "* Pasa a apuntar a la posición $42$\n",
    "<img src=\"https://i.imgur.com/QAH6Yng.png\" width=\"333\">\n",
    "\n",
    "De manera similar, si realizaramos una \"*copia*\" de la variable $x$ a una variable $y$"
   ]
  },
  {
   "cell_type": "code",
   "execution_count": null,
   "metadata": {
    "colab": {},
    "colab_type": "code",
    "id": "cGWzP8HmaTZ5",
    "scrolled": true
   },
   "outputs": [],
   "source": [
    "y = x\n",
    "\n",
    "print(y)"
   ]
  },
  {
   "cell_type": "markdown",
   "metadata": {
    "colab_type": "text",
    "id": "BMjfvQY2aTZ-"
   },
   "source": [
    "La varible $y$ apuntará a la misma posición de memoria de la variable $x$.\n",
    "\n",
    "<img src=\"https://i.imgur.com/Gi2Ar1b.png\" width=\"333\">\n",
    "\n",
    "Evitando de esta manera copias innecesarias."
   ]
  },
  {
   "cell_type": "markdown",
   "metadata": {
    "colab_type": "text",
    "id": "QPm9BTi3aTZ_"
   },
   "source": [
    "### Convenciones al nombrar variables\n",
    "\n",
    "Las variables se nombran en minúsculas, y si el nombre está compuesto por múltiples palabras, estas se separan con una barra baja `_`"
   ]
  },
  {
   "cell_type": "code",
   "execution_count": null,
   "metadata": {
    "colab": {},
    "colab_type": "code",
    "id": "Ua-y3ySDaTZ_"
   },
   "outputs": [],
   "source": [
    "esta_es_una_variable = 3.4\n",
    "\n",
    "print(esta_es_una_variable)"
   ]
  },
  {
   "cell_type": "markdown",
   "metadata": {
    "colab_type": "text",
    "id": "cD-6w88WaTaE"
   },
   "source": [
    "### Recolección de basura"
   ]
  },
  {
   "cell_type": "markdown",
   "metadata": {
    "colab_type": "text",
    "id": "rEPUD-hSaTaF"
   },
   "source": [
    "En la mayoría de lenguajes de programación modernos, existe una funcionalidad llamada *Recolector de Basura*, el cual elimina la necesidad del programador de preocuparse por la administración manual de la memoria.\n",
    "\n",
    "Este entra en acción cuando algún bloque de memoria ya no se utiliza, es decir, ninguna variable está apuntando a él.\n",
    "\n",
    "En el caso anterior con la variable $x$ antes de tomar en cuanta la existencia de $y$, el recolector de basura detecta en algún momento que $13$ ya no se utiliza.\n",
    "\n",
    "<img src=\"https://i.imgur.com/Zfwh98X.png\" width=\"333\">\n",
    "\n",
    "Y procede a eliminarlo o *recolectarlo*, para liberar así la memoria que ya no se utiliza.\n",
    "\n",
    "<img src=\"https://i.imgur.com/avCTahO.png\" width=\"333\">"
   ]
  },
  {
   "cell_type": "markdown",
   "metadata": {
    "colab_type": "text",
    "id": "0vWJs4GcaTaF"
   },
   "source": [
    "## Tipos de datos\n",
    "\n",
    "Existen distintos tipos de datos \"primitivos\", algunos de estos son:\n",
    "\n",
    "* Entero, un número entero de representación infinita (lo que soporte la máquina), cuya palabra reservada para representarlo es:\n",
    "    ```python\n",
    "    int\n",
    "    \n",
    "    entero = 10\n",
    "    ```\n",
    "* Flotante, un número decimal equivalente a un double en otros lenguajes de programación, cuya palabra reservada para representarlo es:\n",
    "    ```python\n",
    "    float\n",
    "    \n",
    "    decimal = 4.32\n",
    "    ```\n",
    "* Cadena, nos permite almacenar caracteres de texto unicode y se representa por comillas simples o dobles: la palabra reservada del tipo es:\n",
    "    ```python\n",
    "    str\n",
    "    \n",
    "    cadena = 'Hola'\n",
    "    ```\n",
    "* Lógico, representa los estados lógicos `True` o `False`, cuya palabra reservada para representarlo es:\n",
    "    ```python\n",
    "    bool\n",
    "    ```\n",
    "* Nulo, representa la nada, es el tipo de dato que utiliza python para indicar que algo no tiene valor, en el lenguaje su representación es:\n",
    "    ```python\n",
    "    None\n",
    "    ```\n",
    "Se pueden crear tipos de datos compuestos mediante clases, pero estos no se abordarán aquí.\n",
    "    \n",
    "Debido a que Python es dinámico, no es necesario definir el tipo de dato que almacena una variable, esto lo hace el intérprete mediante el uso del *duck typing*, sin embargo, es una buena práctica definir el tipo del dato a utilizar para mejor legibilidad del código y autocompletado en un editor."
   ]
  },
  {
   "cell_type": "code",
   "execution_count": null,
   "metadata": {
    "colab": {},
    "colab_type": "code",
    "id": "2ycXBir6aTaG"
   },
   "outputs": [],
   "source": [
    "# tipamos la variable cad como string\n",
    "cad: str = 'patito'\n",
    "    \n",
    "print(cad)"
   ]
  },
  {
   "cell_type": "markdown",
   "metadata": {
    "colab_type": "text",
    "id": "fX0w5WRHaTaL"
   },
   "source": [
    "Para saber el tipo de dato de nuestra variable, se usa la instrucción\n",
    "```python\n",
    "type(var)\n",
    "```"
   ]
  },
  {
   "cell_type": "code",
   "execution_count": null,
   "metadata": {
    "colab": {},
    "colab_type": "code",
    "id": "4TR2WH6PaTaN"
   },
   "outputs": [],
   "source": [
    "type(cad)"
   ]
  },
  {
   "cell_type": "code",
   "execution_count": null,
   "metadata": {
    "colab": {},
    "colab_type": "code",
    "id": "ycXbxBklaTaR"
   },
   "outputs": [],
   "source": [
    "type(int)"
   ]
  },
  {
   "cell_type": "markdown",
   "metadata": {
    "colab_type": "text",
    "id": "UHoa5iH7aTaW"
   },
   "source": [
    "Nótese que no usamos `print` en el notebook, esto es debido a que Jupyter Notebook funciona como una consola interactiva que muestra la última salida automáticamente."
   ]
  },
  {
   "cell_type": "markdown",
   "metadata": {
    "colab_type": "text",
    "id": "ft4baeZKaTaX"
   },
   "source": [
    "## Operadores\n",
    "\n",
    "Podemos realizar operaciones sobre los distintos tipos de datos.\n",
    "\n",
    "Debido a que las cadenas y otros datos que aún no se abordaron son un poco más complejos, las operaciones sobre estos serán explicada en clases posteriores.\n",
    "\n",
    "Considerando operaciones sobre los tipos de datos numéricos `int` y `float`, podemos usar Python como una calculadora, haciendo uso de las operaciones:\n",
    "\n",
    "* Suma:\n",
    "```python\n",
    "+\n",
    "```\n",
    "* Resta:\n",
    "```python\n",
    "-\n",
    "```\n",
    "* Multiplicación:\n",
    "```python\n",
    "*\n",
    "```\n",
    "* División decimal\n",
    "```python\n",
    "/\n",
    "```\n",
    "* División entera\n",
    "```python\n",
    "//\n",
    "```\n",
    "* Exponenciación\n",
    "```python\n",
    "**\n",
    "```\n",
    "* Módulo (Resto de la división)\n",
    "```python\n",
    "%\n",
    "```\n",
    "* Comparación\n",
    "```python\n",
    "==\n",
    "```"
   ]
  },
  {
   "cell_type": "markdown",
   "metadata": {
    "colab_type": "text",
    "id": "tJOGH5JTaTaX"
   },
   "source": [
    "**Ejemplo:** evaluar la expresión\n",
    "$$\\frac{32^{123}}{432}$$"
   ]
  },
  {
   "cell_type": "code",
   "execution_count": null,
   "metadata": {
    "colab": {},
    "colab_type": "code",
    "id": "7wRS7gg3aTaY"
   },
   "outputs": [],
   "source": [
    "expr_float = 32**123/512\n",
    "expr_int = 32**123//512\n",
    "\n",
    "print('Con errores de redondeo:')\n",
    "print(expr_float)\n",
    "print()\n",
    "\n",
    "print('Precisión entera infinita:')\n",
    "print(expr_int)"
   ]
  },
  {
   "cell_type": "markdown",
   "metadata": {
    "colab_type": "text",
    "id": "JncvNG5eaTac"
   },
   "source": [
    "**Ejemplo:** Calcular el área de un rectángulo con base 10cm y altura 15 cm."
   ]
  },
  {
   "cell_type": "code",
   "execution_count": null,
   "metadata": {
    "colab": {},
    "colab_type": "code",
    "id": "JTA2amC6aTad"
   },
   "outputs": [],
   "source": [
    "if __name__ == '__main__':\n",
    "    base = 10\n",
    "    altura = 15\n",
    "    \n",
    "    area = base * altura\n",
    "    \n",
    "    print(area)"
   ]
  },
  {
   "cell_type": "markdown",
   "metadata": {
    "colab_type": "text",
    "id": "MKSkUeVzaTak"
   },
   "source": [
    "La instrucción \n",
    "```python\n",
    "if __name__ == '__main__':\n",
    "    pass\n",
    "```\n",
    "\n",
    "se usa en un script de python para indicar que lo que esté dentro es el código principal a ejecutarse.\n",
    "\n",
    "```python\n",
    "pass\n",
    "```\n",
    "\n",
    "indica a Python que no hay código que ejecutar y que se ignore ese bloque de código, normalmente usado para dejar un bloque vacío, una vez se implemente código, se debe borrar `pass`"
   ]
  },
  {
   "cell_type": "markdown",
   "metadata": {
    "colab_type": "text",
    "id": "iqlW2I7-aTal"
   },
   "source": [
    "**Ejemplo:** verificar si un número es par:"
   ]
  },
  {
   "cell_type": "code",
   "execution_count": null,
   "metadata": {
    "colab": {},
    "colab_type": "code",
    "id": "G0igr0IVaTam"
   },
   "outputs": [],
   "source": [
    "a = 18\n",
    "\n",
    "print(a % 2 == 0)"
   ]
  },
  {
   "cell_type": "markdown",
   "metadata": {
    "colab_type": "text",
    "id": "RAh0ES2UaTar"
   },
   "source": [
    "Verificamos si el resultado de dividir el número entre 2 no da ningún resto, si es así el número es divisible entre 2, es decir par, caso contrario tendremos un módulo 1, es decir, no divisible entre 2, por lo tanto impar."
   ]
  },
  {
   "cell_type": "markdown",
   "metadata": {
    "colab_type": "text",
    "id": "PWPHvfd_aTas"
   },
   "source": [
    "### Librería math\n",
    "\n",
    "Una de las primeras librerías de las que haremos uso sera `math`, esta nos ofrecen funciones matemáticas más allá de los operadores expuestos anteriormente, comor ser:\n",
    "\n",
    "| Función matemática          | Equivalente en código |\n",
    "|:------------------:         |:---------------------:|\n",
    "|        $e^x$                |         exp(x)        |\n",
    "|        $sin$                |         sin(x)        |\n",
    "|        $cos$                |         cos(x)        |\n",
    "| $log_n x$                   |       log(x, n)       |\n",
    "| $\\sqrt{x}$                  |        sqrt(x)        |\n",
    "|convertir radianes a grados  |        degrees(x)     |\n",
    "\n",
    "y muchas más.\n",
    "\n",
    "**Nota: las funciones trigonométricas esperan el ángulo en radianes.**\n",
    "\n",
    "Para poder usar sus funciones, debemos importarla con la instrucción `import` de la siguiente manera:\n",
    "```python\n",
    "from math import * \n",
    "```\n",
    "\n",
    "con esa línea de código importamos todas las funciones de la librería math, la sintaxis se explicará en la tercera clase de esta semana, por lo que por ahora sólo utilizaremos las funciones asumiento que tenemos ya todas disponibles."
   ]
  },
  {
   "cell_type": "markdown",
   "metadata": {
    "colab_type": "text",
    "id": "pCX_VcbmaTau"
   },
   "source": [
    "**Ejemplo:** Calcular $sin(x) + cos(x)$, con $x = 30^\\circ$"
   ]
  },
  {
   "cell_type": "code",
   "execution_count": null,
   "metadata": {
    "colab": {},
    "colab_type": "code",
    "id": "C3pmB5fMaTav"
   },
   "outputs": [],
   "source": [
    "from math import * "
   ]
  },
  {
   "cell_type": "code",
   "execution_count": null,
   "metadata": {
    "colab": {},
    "colab_type": "code",
    "id": "HTmWc7e2aTaz"
   },
   "outputs": [],
   "source": [
    "res = sin(degrees(30))**2 + cos(degrees(30))**2\n",
    "\n",
    "print(res)"
   ]
  },
  {
   "cell_type": "markdown",
   "metadata": {
    "colab_type": "text",
    "id": "zVmWXzaCaTa5"
   },
   "source": [
    "## Unpacking\n",
    "\n",
    "La asignación de variables puede ser realizada en bloque en una sóla línea.\n",
    "\n",
    "En lugar de asignar:\n",
    "```python\n",
    "a = 10\n",
    "b = 15\n",
    "```\n",
    "\n",
    "podemos asignar de la siguiente manera:\n",
    "```python\n",
    "a, b = 10, 15\n",
    "```\n",
    "\n",
    "esta asignación es muy útil cuando queremos hacer un intercambio en las variables, debido a que nos ahorra la creación de una variable intermedia."
   ]
  },
  {
   "cell_type": "markdown",
   "metadata": {
    "colab_type": "text",
    "id": "qUUCo9MLaTa6"
   },
   "source": [
    "**Ejemplo:** dado `a = 'hola'` y `b = 'adios'`, intercambiar los valores para que queden como: `b = 'hola'` y `a = 'adios'`\n",
    "\n",
    "*Forma 1:*"
   ]
  },
  {
   "cell_type": "code",
   "execution_count": null,
   "metadata": {
    "colab": {},
    "colab_type": "code",
    "id": "O6opUizRaTa8"
   },
   "outputs": [],
   "source": [
    "a = 'hola'\n",
    "b = 'adios'\n",
    "\n",
    "print(a, b)\n",
    "\n",
    "c = a\n",
    "a = b\n",
    "b = c\n",
    "\n",
    "print(a, b)"
   ]
  },
  {
   "cell_type": "markdown",
   "metadata": {
    "colab_type": "text",
    "id": "yqjUqq_YaTbB"
   },
   "source": [
    "*Forma 2:*"
   ]
  },
  {
   "cell_type": "code",
   "execution_count": null,
   "metadata": {
    "colab": {},
    "colab_type": "code",
    "id": "pr7phUBYaTbC"
   },
   "outputs": [],
   "source": [
    "a = 'hola'\n",
    "b = 'adios'\n",
    "\n",
    "print(a, b)\n",
    "\n",
    "b, a = a, b\n",
    "\n",
    "print(a, b)"
   ]
  },
  {
   "cell_type": "markdown",
   "metadata": {
    "colab_type": "text",
    "id": "-ZCB7OmUaTbH"
   },
   "source": [
    "## Formateo de salida de datos\n",
    "\n",
    "La instrucción `print` tiene argumentos extra para darle un formato a la salida.\n",
    "\n",
    "Para imprimir varias variables en una sóla línea, se separan las variables como argumento por una coma `,`, de esta manera las variables serán separadas por defecto por un espacio como en el ejemplo anterior."
   ]
  },
  {
   "cell_type": "code",
   "execution_count": null,
   "metadata": {
    "colab": {},
    "colab_type": "code",
    "id": "MyzAdkZMaTbH"
   },
   "outputs": [],
   "source": [
    "print(12, 13)"
   ]
  },
  {
   "cell_type": "markdown",
   "metadata": {
    "colab_type": "text",
    "id": "YW24QQNiaTbL"
   },
   "source": [
    "Para modificar la separación se puede enviar como argumento una cadena al argumento `sep` de la función `print` de la siguiente manera:\n",
    "```python\n",
    "print(var1, var2, ..., sep=separador)\n",
    "```"
   ]
  },
  {
   "cell_type": "code",
   "execution_count": null,
   "metadata": {
    "colab": {},
    "colab_type": "code",
    "id": "MHj1B2D3aTbM"
   },
   "outputs": [],
   "source": [
    "print(12, 13, sep=' -> ')\n",
    "print(12, 13, sep=', siguiente: ')"
   ]
  },
  {
   "cell_type": "markdown",
   "metadata": {
    "colab_type": "text",
    "id": "Vk40okFnaTbP"
   },
   "source": [
    "La instrucción `print` agrega por defecto un salto de línea, es por esta razón que el siguiente print se muestra debajo del anterior, y también un `print()` sin argumentos agrega una línea vacía.\n",
    "\n",
    "Para modificar esta terminación, se envía una cadena al argumento `end`, que por defecto vale `\\n`, el caracter de control que representa un salto de línea (este caracter se imprime cuando presionamos la tecla `Enter`)."
   ]
  },
  {
   "cell_type": "code",
   "execution_count": null,
   "metadata": {
    "colab": {},
    "colab_type": "code",
    "id": "eUQRANmPaTbQ"
   },
   "outputs": [],
   "source": [
    "print(12, 13, sep=' -> ', end=' siguiente línea: ')\n",
    "print('Nueva línea')"
   ]
  },
  {
   "cell_type": "markdown",
   "metadata": {
    "colab_type": "text",
    "id": "27aUue7HaTbT"
   },
   "source": [
    "## Ejercicios"
   ]
  },
  {
   "cell_type": "markdown",
   "metadata": {
    "colab_type": "text",
    "id": "SjfczWgTaTbU"
   },
   "source": [
    "### Similaridad del coseno:\n",
    "\n",
    "Implementar esta métrica de similaridad dada por la fórmula:\n",
    "\n",
    "$$\\frac{x_1x_2 + y_1y_2}{\\sqrt{x_1^2 + y_1^2}\\sqrt{x_2^2 + y_2^2}}$$\n",
    "\n",
    "| Ejemplo Entrada | Ejemplo Salida |\n",
    "|:---------------:|:--------------:|\n",
    "|6, 4, 19, 8      |    0.9821      |"
   ]
  },
  {
   "cell_type": "code",
   "execution_count": null,
   "metadata": {
    "colab": {},
    "colab_type": "code",
    "id": "TBlCWJA1aTbV"
   },
   "outputs": [],
   "source": []
  },
  {
   "cell_type": "markdown",
   "metadata": {
    "colab_type": "text",
    "id": "svOQ2cRQaTbZ"
   },
   "source": [
    "### JV-1265 Monedas británicas\n",
    "\n",
    "Antes del año 1971, Gran Bretaña utilizó un sistema de monedas que se remonta a la época de Carlomagno. \n",
    "\n",
    "Las tres principales unidades de la moneda británica fueron el penique, el chelín, y la libra. \n",
    "Se tenían las siguientes equivalencias, existen 12 peniques en un chelín y 20 chelines en una libra. Dado una cantidad de monedas  peniques se quiere convertir esta cantidad en libras, chelines y peniques para esto se\n",
    "procede de la siguiente manera, la primera \n",
    "conversión sera de monedas de peniques a su equivalencia máxima en libras, y luego convertir \n",
    "la mayor cantidad de peniques restantes como sea posible hacia su equivalente en chelines y el restante se mantiene en peniques.\n",
    "Devuelve estos datos en un  vector de enteros con tres elementos que contiene la equivalencia en \n",
    "monedas de libras, monedas de chelines, y el número de monedas de un penique, en ese orden.\n",
    "\n",
    "**Entrada**\n",
    "\n",
    "La entrada de datos consiste en un entero A que representa la cantidad de monedas \n",
    "disponible en peniques, el número está definido como se indica 0≤A≤10000.\n",
    "\n",
    "En la entrada hay un solo dato. Se muestran multiples datos como ejemplo.\n",
    "\n",
    "**Salida**\n",
    "\n",
    "Escriba para cada caso de prueba tres números, los cuales son el equivalente en libras, chelín y peniques.\n",
    "\n",
    "| Ejemplo Entrada | Ejemplo Salida |\n",
    "|:---------------:|:--------------:|\n",
    "|       533       |    (2, 4, 5)   |\n",
    "|        0        |    (0, 0, 0)   |\n",
    "|        6        |    (0, 0, 6)   |\n",
    "|       4091      |   (17, 0, 11)  |\n",
    "|      10000      |   (41, 13, 4)  |"
   ]
  },
  {
   "cell_type": "markdown",
   "metadata": {
    "colab_type": "text",
    "id": "llqltE5YaTbZ"
   },
   "source": [
    "**Razonamiento**\n",
    "\n",
    "* 1 chelín = 12 peniques\n",
    "* 1 libra = 20 chelines\n",
    "\n",
    "Queremos convertir el total de peniques a las unidades superiores."
   ]
  },
  {
   "cell_type": "code",
   "execution_count": null,
   "metadata": {
    "colab": {},
    "colab_type": "code",
    "id": "8RLani-MrArV"
   },
   "outputs": [],
   "source": []
  }
 ],
 "metadata": {
  "colab": {
   "collapsed_sections": [],
   "name": "Clase-1.ipynb",
   "provenance": [],
   "toc_visible": true
  },
  "kernelspec": {
   "display_name": "Python 3",
   "language": "python",
   "name": "python3"
  },
  "language_info": {
   "codemirror_mode": {
    "name": "ipython",
    "version": 3
   },
   "file_extension": ".py",
   "mimetype": "text/x-python",
   "name": "python",
   "nbconvert_exporter": "python",
   "pygments_lexer": "ipython3",
   "version": "3.7.6"
  }
 },
 "nbformat": 4,
 "nbformat_minor": 1
}
